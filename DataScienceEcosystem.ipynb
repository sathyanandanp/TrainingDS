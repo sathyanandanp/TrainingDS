{
 "cells": [
  {
   "cell_type": "markdown",
   "id": "f4cd854b-4223-4f33-9492-83f5b5d9350f",
   "metadata": {},
   "source": [
    "# Data Science Tools and Ecosystem"
   ]
  },
  {
   "cell_type": "markdown",
   "id": "90862cfa-9a7f-41e8-a778-7efbd996757d",
   "metadata": {},
   "source": [
    "In this notebook, Data Science Tools and Ecosystem are summarized."
   ]
  },
  {
   "cell_type": "markdown",
   "id": "8cb89446-87ed-4d29-bd3b-e5b769aa1824",
   "metadata": {},
   "source": [
    "**Objectives:**\n",
    " + List popular languages for Data Science\n",
    " + List of the commonly used libraries used by Data Scientists\n",
    " + List of Data Science Tools\n",
    " + Arithmetic expressions in Python - mutiply then add integers\n",
    " + Arithmetic expressions in Python - Convert Minutes to Hours"
   ]
  },
  {
   "cell_type": "markdown",
   "id": "4df50d58-0fdc-4f25-8304-8eb28567e49d",
   "metadata": {},
   "source": [
    "Some of the popular languages that Data Scientists use are:\n",
    "1. SQL\n",
    "2. Pyhon\n",
    "3. R"
   ]
  },
  {
   "cell_type": "markdown",
   "id": "5d04e0da-a1c7-4490-a2d7-3e099ace381a",
   "metadata": {},
   "source": [
    "Some of the commonly used libraries used by Data Scientists include:\n",
    "1. NumPy,\n",
    "2. Pandas,\n",
    "3. Matplotlib,\n",
    "4. Seaborn,\n",
    "5. Scikit-learn"
   ]
  },
  {
   "cell_type": "markdown",
   "id": "a9eb8f6f-c750-4fa1-a5b1-7cc068eea74d",
   "metadata": {},
   "source": [
    "|Data Science Tools|\n",
    "--------------------\n",
    "|Apache Spark|\n",
    "|Git Hub|\n",
    "|R Studio|"
   ]
  },
  {
   "cell_type": "markdown",
   "id": "f9dd2ea1-f19a-431d-ba91-7966ea327b62",
   "metadata": {},
   "source": [
    "### Below are a few examples of evaluating arithmetic expressions in Python"
   ]
  },
  {
   "cell_type": "code",
   "execution_count": 4,
   "id": "641b4136-d31b-4cf8-84cf-5eb53195066b",
   "metadata": {},
   "outputs": [
    {
     "data": {
      "text/plain": [
       "17"
      ]
     },
     "execution_count": 4,
     "metadata": {},
     "output_type": "execute_result"
    }
   ],
   "source": [
    "# This a simple arithmetic expression to mutiply then add integers\n",
    "(3*4)+5"
   ]
  },
  {
   "cell_type": "code",
   "execution_count": 5,
   "id": "41f4a397-ac11-4481-9e4b-fcd5d7494197",
   "metadata": {},
   "outputs": [
    {
     "name": "stdout",
     "output_type": "stream",
     "text": [
      "200 minutes is equal to 3 hours and 20 minutes\n"
     ]
    }
   ],
   "source": [
    "# This will convert 200 minutes to hours by diving by 60\n",
    "minutes = 200\n",
    "hours = minutes // 60\n",
    "remaining_minutes = minutes % 60\n",
    "print(f\"{minutes} minutes is equal to {hours} hours and {remaining_minutes} minutes\")"
   ]
  },
  {
   "cell_type": "markdown",
   "id": "0c66d652-4f23-4065-a11c-eef77cd6b1e1",
   "metadata": {},
   "source": [
    "## Author\n",
    "Sathyanandan Prabakaran"
   ]
  },
  {
   "cell_type": "code",
   "execution_count": null,
   "id": "ec2d6b70-e4cd-423b-a802-ab550e8eca8d",
   "metadata": {},
   "outputs": [],
   "source": []
  }
 ],
 "metadata": {
  "kernelspec": {
   "display_name": "anaconda-panel-2023.05-py310",
   "language": "python",
   "name": "conda-env-anaconda-panel-2023.05-py310-py"
  },
  "language_info": {
   "codemirror_mode": {
    "name": "ipython",
    "version": 3
   },
   "file_extension": ".py",
   "mimetype": "text/x-python",
   "name": "python",
   "nbconvert_exporter": "python",
   "pygments_lexer": "ipython3",
   "version": "3.11.5"
  }
 },
 "nbformat": 4,
 "nbformat_minor": 5
}
