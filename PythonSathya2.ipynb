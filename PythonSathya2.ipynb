{
  "metadata": {
    "kernelspec": {
      "name": "python",
      "display_name": "Python (Pyodide)",
      "language": "python"
    },
    "language_info": {
      "name": ""
    }
  },
  "nbformat_minor": 4,
  "nbformat": 4,
  "cells": [
    {
      "cell_type": "markdown",
      "source": "# H1: This is a level 1 Heading\n## H2: This is a level 2 Heading\n### H3: This is a level 3 Heading\n#### H4: This is a level 4 Heading\n##### H5: This is a level 5 Heading\n###### H6: This is a level 6 Heading",
      "metadata": {}
    },
    {
      "cell_type": "markdown",
      "source": "**HEADING**",
      "metadata": {}
    },
    {
      "cell_type": "markdown",
      "source": "__HEADING__",
      "metadata": {}
    },
    {
      "cell_type": "markdown",
      "source": "*Text in Italic using Astrik*",
      "metadata": {}
    },
    {
      "cell_type": "markdown",
      "source": "_Text in Italic Using Underscore_",
      "metadata": {}
    },
    {
      "cell_type": "markdown",
      "source": "[Skills Network](https://skills.network/) ",
      "metadata": {}
    },
    {
      "cell_type": "markdown",
      "source": "LOGO: ![This is the skills network logo](https://cf-courses-data.s3.us.cloud-object-storage.appdomain.cloud/assets/logos/SN_web_lightmode.png)",
      "metadata": {}
    },
    {
      "cell_type": "markdown",
      "source": "|Country Name|Capital|\n|------------|--------|\n|United States|Washington DC|\n|Australia|Canbera|\n|India|New Delhi|",
      "metadata": {}
    },
    {
      "cell_type": "markdown",
      "source": "- Apple\n- Orange\n- Guava\n- Pine Apple\n\n* Apple\n* Orange\n* Guava\n* Pine Apple\n\n+ Apple\n+ Orange\n+ Guava\n+ Pine Apple",
      "metadata": {}
    },
    {
      "cell_type": "markdown",
      "source": "1. Apple\n2. Orange\n3. Guava\n4. Pine Apple",
      "metadata": {}
    },
    {
      "cell_type": "markdown",
      "source": "## Welcome to Python programming",
      "metadata": {}
    },
    {
      "cell_type": "markdown",
      "source": "NEW LAUNCHER: ![This is SN labs New Launcher](https://cf-courses-data.s3.us.cloud-object-storage.appdomain.cloud/IBMDeveloperSkillsNetwork-DS0105EN-SkillsNetwork/labs/Labs_V4/images/Launcher.png)",
      "metadata": {}
    },
    {
      "cell_type": "markdown",
      "source": "[Tools for Data Science](https://www.coursera.org/learn/open-source-tools-for-data-science/home)",
      "metadata": {}
    },
    {
      "cell_type": "markdown",
      "source": "",
      "metadata": {}
    },
    {
      "cell_type": "markdown",
      "source": "|Fruits|Quantity (Kg)|Price in Rupee|\n|------|-------------|--------------|\n|Apple|2|500|\n|Orange|1|200|\n|Mango|3|1000|\n|Grapes|2|400|",
      "metadata": {}
    },
    {
      "cell_type": "markdown",
      "source": "1. Python\n2. Java\n3. C++\n4. C",
      "metadata": {}
    },
    {
      "cell_type": "code",
      "source": "",
      "metadata": {
        "trusted": true
      },
      "outputs": [],
      "execution_count": null
    }
  ]
}